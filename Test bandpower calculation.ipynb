{
  "metadata": {
    "kernelspec": {
      "name": "python",
      "display_name": "Python (Pyodide)",
      "language": "python"
    },
    "language_info": {
      "codemirror_mode": {
        "name": "python",
        "version": 3
      },
      "file_extension": ".py",
      "mimetype": "text/x-python",
      "name": "python",
      "nbconvert_exporter": "python",
      "pygments_lexer": "ipython3",
      "version": "3.8"
    }
  },
  "nbformat_minor": 5,
  "nbformat": 4,
  "cells": [
    {
      "id": "834e8039-f9ee-4e65-a105-0a696ef0a0dc",
      "cell_type": "code",
      "source": "from datetime import datetime as dt\nimport numpy as np\n\nclass SignalCalibrator:\n    def __init__(self, arousal, valence):\n        self.arousal = arousal\n        self.valence = valence\n        self.sampling_rate = 256\n        self.eeg_signals = []  # List to store EEG signals for all 4 channels\n        self.start_time = dt.now()  # Calibration start time\n\n    def add_sample(self, sample):\n        \"\"\" Adds the eeg signal samples to the list self.eeg_signals as they come in. \"\"\"\n        self.eeg_signals.append(sample)\n    \n    def bandpower(self):\n        \"\"\" Computes the average band power across each column of the 4 channels. \"\"\"\n        if not self.eeg_signals:\n            return None\n\n        # Convert self.eeg_signals to a numpy array\n        data = np.array(self.eeg_signals)\n\n        # Compute the band power across each column of the 4 channels\n        band_power = np.mean(data, axis=0)\n        return band_power\n    \n    def calibrate(self, stop_time):\n        \"\"\" Calibrates the eeg signal. \"\"\"\n        signals_trimmed = self.eeg_signals[int(self.sampling_rate * 0.5):-int(self.sampling_rate * 0.5)]\n        duration = (stop_time - self.start_time).total_seconds() - 1\n        band_power = self.bandpower()\n        print(\"Band power:\", band_power)\n        # TODO: Add calibration logic here\n\n# Example usage\ncalibrator = SignalCalibrator(arousal=0.5, valence=0.7)\n\n# Add sample data\ncalibrator.add_sample([-1000.0, -1000.0, -906.73828125, -1000.0])\ncalibrator.add_sample([-900.0, -500.0, -706.73828125, -1010.0])\ncalibrator.add_sample([-1090.0, -200.0, -755.0, -1020.0])\ncalibrator.add_sample([-980.0, -750.0, -812.25, -990.0])\ncalibrator.add_sample([-1200.0, -300.0, -850.64, -1035.0])\ncalibrator.add_sample([-950.0, -600.0, -900.75, -1015.0])\ncalibrator.add_sample([-1100.0, -400.0, -780.2, -1025.0])\ncalibrator.add_sample([-1050.0, -350.0, -860.7, -1005.0])\ncalibrator.add_sample([-970.0, -450.0, -820.88, -980.0])\ncalibrator.add_sample([-1150.0, -250.0, -790.65, -1040.0])\n\n# Simulate calibration\nstop_time = dt.now()\ncalibrator.calibrate(stop_time)",
      "metadata": {
        "trusted": true
      },
      "outputs": [
        {
          "name": "stdout",
          "text": "Band power: [-1039.          -480.          -818.45465625 -1012.        ]\n",
          "output_type": "stream"
        }
      ],
      "execution_count": 13
    },
    {
      "id": "7cc1b99e-e0e4-4b6a-818d-bd7b825a1694",
      "cell_type": "code",
      "source": "!pip install openpyxl\n!pip install pyarrow\n\nimport numpy as np\nimport pandas as pd\n\n# Simulating synthetic EEG data (256 Hz sampling rate, 4 channels, 60 seconds)\nsampling_rate = 256\nnum_channels = 4\nduration_sec = 60\neeg_signals = np.random.randn(sampling_rate * duration_sec, num_channels) * 100  #Example\n\n# Save synthetic EEG data to Excel for verification\ndf = pd.DataFrame(eeg_signals, columns=[f\"Channel {i+1}\" for i in range(num_channels)])\ndf. to_excel(\"eeg_signals_test.xlsx\", index=False)\n\n# Implementing the bandpower function and testing it\ndef bandpower (signals):\n    \"\"\"Compute average power across each column of the 4 EEG channels.\"\"\"\n    channel_powers - [np.mean(np.abs(signals[:, i]) ** 2) for i in range(signals.shape[1])]\n    return channel_powers\n\n# Test the bandpower function with the synthetic data\npowers = bandpower (eeg_signals)\nprint(\"Calculated band powers:\", powers)",
      "metadata": {
        "trusted": true
      },
      "outputs": [
        {
          "ename": "<class 'OSError'>",
          "evalue": "Not available",
          "traceback": [
            "\u001b[0;31m---------------------------------------------------------------------------\u001b[0m",
            "\u001b[0;31mOSError\u001b[0m                                   Traceback (most recent call last)",
            "Cell \u001b[0;32mIn[6], line 1\u001b[0m\n\u001b[0;32m----> 1\u001b[0m \u001b[43mget_ipython\u001b[49m\u001b[43m(\u001b[49m\u001b[43m)\u001b[49m\u001b[38;5;241;43m.\u001b[39;49m\u001b[43msystem\u001b[49m\u001b[43m(\u001b[49m\u001b[38;5;124;43m'\u001b[39;49m\u001b[38;5;124;43mpip install openpyxl\u001b[39;49m\u001b[38;5;124;43m'\u001b[39;49m\u001b[43m)\u001b[49m\n\u001b[1;32m      2\u001b[0m get_ipython()\u001b[38;5;241m.\u001b[39msystem(\u001b[38;5;124m'\u001b[39m\u001b[38;5;124mpip install pyarrow\u001b[39m\u001b[38;5;124m'\u001b[39m)\n\u001b[1;32m      4\u001b[0m \u001b[38;5;28;01mimport\u001b[39;00m \u001b[38;5;21;01mnumpy\u001b[39;00m \u001b[38;5;28;01mas\u001b[39;00m \u001b[38;5;21;01mnp\u001b[39;00m\n",
            "File \u001b[0;32m/lib/python3.12/site-packages/IPython/core/interactiveshell.py:2653\u001b[0m, in \u001b[0;36mInteractiveShell.system_piped\u001b[0;34m(self, cmd)\u001b[0m\n\u001b[1;32m   2648\u001b[0m     \u001b[38;5;28;01mraise\u001b[39;00m \u001b[38;5;167;01mOSError\u001b[39;00m(\u001b[38;5;124m\"\u001b[39m\u001b[38;5;124mBackground processes not supported.\u001b[39m\u001b[38;5;124m\"\u001b[39m)\n\u001b[1;32m   2650\u001b[0m \u001b[38;5;66;03m# we explicitly do NOT return the subprocess status code, because\u001b[39;00m\n\u001b[1;32m   2651\u001b[0m \u001b[38;5;66;03m# a non-None value would trigger :func:`sys.displayhook` calls.\u001b[39;00m\n\u001b[1;32m   2652\u001b[0m \u001b[38;5;66;03m# Instead, we store the exit_code in user_ns.\u001b[39;00m\n\u001b[0;32m-> 2653\u001b[0m \u001b[38;5;28mself\u001b[39m\u001b[38;5;241m.\u001b[39muser_ns[\u001b[38;5;124m'\u001b[39m\u001b[38;5;124m_exit_code\u001b[39m\u001b[38;5;124m'\u001b[39m] \u001b[38;5;241m=\u001b[39m \u001b[43msystem\u001b[49m\u001b[43m(\u001b[49m\u001b[38;5;28;43mself\u001b[39;49m\u001b[38;5;241;43m.\u001b[39;49m\u001b[43mvar_expand\u001b[49m\u001b[43m(\u001b[49m\u001b[43mcmd\u001b[49m\u001b[43m,\u001b[49m\u001b[43m \u001b[49m\u001b[43mdepth\u001b[49m\u001b[38;5;241;43m=\u001b[39;49m\u001b[38;5;241;43m1\u001b[39;49m\u001b[43m)\u001b[49m\u001b[43m)\u001b[49m\n",
            "File \u001b[0;32m/lib/python3.12/site-packages/IPython/utils/_process_emscripten.py:11\u001b[0m, in \u001b[0;36msystem\u001b[0;34m(cmd)\u001b[0m\n\u001b[1;32m     10\u001b[0m \u001b[38;5;28;01mdef\u001b[39;00m \u001b[38;5;21msystem\u001b[39m(cmd):\n\u001b[0;32m---> 11\u001b[0m     \u001b[38;5;28;01mraise\u001b[39;00m \u001b[38;5;167;01mOSError\u001b[39;00m(\u001b[38;5;124m\"\u001b[39m\u001b[38;5;124mNot available\u001b[39m\u001b[38;5;124m\"\u001b[39m)\n",
            "\u001b[0;31mOSError\u001b[0m: Not available"
          ],
          "output_type": "error"
        }
      ],
      "execution_count": 6
    },
    {
      "id": "b271fb32-bfe6-4170-9102-cdb6c23c9b26",
      "cell_type": "code",
      "source": "from datetime import datetime as dt\nimport numpy as np\nclass SignalCalibrator:\n    def __init__(self, arousal, valence):\n        \"\"\"\n        1. Initialize the SignalCalibrator with the provided arousal and valence values.\n        2. Initialize sampling rate, eeg_signals as an empty list, and set start_time\n        \"\"\"\n        self.arousal = arousal\n        self.valence = valence\n        self.sampling_rate = 256\n        self.eeg_signals = [] # List to store EEG signals for all 4 channels\n        self.start_time = dt.now() # Calibration start time\n        super().__init__()\n\n\n    def add_sample(self, sample):\n        \"\"\" Adds the eeg signal samples to the list self.eeg_signals as they come in.\n        e.g: SignalCalibrator sample > [-1000.0, -1000.0, -906.73828125, -1000.0]\n        \"\"\"\n        self.eeg_signals.append(sample)\n    \n    def bandpower(self):\n        \"\"\" Computes the average band power across each column of the 4 channels. \"\"\"\n        if not self.eeg_signals:\n            return None\n\n        # Convert self.eeg_signals to a numpy array\n        data = np.array(self.eeg_signals)\n\n        # Compute the band power across each column of the 4 channels\n        channel_powers = [np.mean(np.abs(self.eeg_signals[:, i]) ** 2) for i in range(self.eeg_signals.shape[1])]\n        return channel_powers\n    \n    \"\"\" def bandpower \"\"\"\n    \"\"\" average across each column of the 4 channels\"\"\"\n    \"\"\" refer to calibration data from stream_eeg\"\"\"\n\n    def calibrate(self, stop_time):\n        \"\"\" Calibrates the eeg signal. \"\"\"\n        # trim 0.5 seconds from the start and end of the signal\n        signals_trimmed = self.eeg_signals[int(self.sampling_rate * 0.5):-int(self.sampling_rate * 0.5)]\n        duration = (stop_time - self.start_time).total_seconds() - 1\n\n        # Convert trimmed signals to a numpy array\n        signals_array = np.array(signals_trimmed)\n\n        # Calculate bandpower for each channel \n        channel_powers = self.bandpower(signals_array)\n        return channel_powers\n    \n        # TODO: do calibration logic here\n        pass\n",
      "metadata": {
        "trusted": true
      },
      "outputs": [],
      "execution_count": null
    }
  ]
}